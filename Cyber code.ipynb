{
 "cells": [
  {
   "cell_type": "markdown",
   "id": "a0df5a30-fc6d-4c8d-a944-a9b9466201e0",
   "metadata": {},
   "source": [
    "Incident Dataset:\n",
    "Contains categorical data to examine the relationship between Time of Day (e.g., Morning, Afternoon, Evening, Night)\n",
    " and Incident Type (e.g., Phishing, Malware, Brute Force, Insider Threat).\n",
    "\n",
    "Login Dataset:\n",
    "This dataset contains continuous data such as Login Attempts by regular users vs. potentially malicious users, \n",
    "allowing us to test for a significant difference in behavior between the two groups.\n",
    "\n",
    "Chi-Square Test\n",
    "Purpose: To determine if there’s a statistically significant association between the time of day and type of cybersecurity incident.\n",
    "Hypotheses:\n",
    "\n",
    "Null Hypothesis (H₀): There is no association between the time of day and the type of cybersecurity incident (i.e., they are independent).\n",
    "Alternative Hypothesis (H₁): There is an association between the time of day and the type of cybersecurity incident (i.e., they are dependent).\n",
    "\n",
    "T-Test\n",
    "Purpose: To test if there’s a statistically significant difference in the average number of login attempts between regular users and malicious users.\n",
    "\n",
    "Hypotheses:\n",
    "\n",
    "Null Hypothesis (H₀): The mean number of login attempts for regular and malicious users is the same.\n",
    "Alternative Hypothesis (H₁): The mean number of login attempts for regular and malicious users is different."
   ]
  },
  {
   "cell_type": "code",
   "execution_count": 34,
   "id": "40fd7797-942a-495f-a42e-59d4d5e3696c",
   "metadata": {},
   "outputs": [],
   "source": [
    "# Import libraries\n",
    "import pandas as pd\n",
    "from scipy.stats import chi2_contingency, ttest_ind\n",
    "from sklearn.preprocessing import StandardScaler"
   ]
  },
  {
   "cell_type": "code",
   "execution_count": 35,
   "id": "b88e9607-6244-46af-8f3c-79c956bd5ffb",
   "metadata": {},
   "outputs": [],
   "source": [
    "# Load the datasets\n",
    "chi_square_data = pd.read_csv('Incident.csv')\n",
    "t_test_data = pd.read_csv('Login.csv')"
   ]
  },
  {
   "cell_type": "code",
   "execution_count": 36,
   "id": "dc0f5e1c-f3ca-4e0d-b8d5-e411e7c6a135",
   "metadata": {},
   "outputs": [
    {
     "name": "stdout",
     "output_type": "stream",
     "text": [
      "Chi-Square Data Missing Values:\n",
      " Time_of_Day      0\n",
      "Incident_Type    0\n",
      "dtype: int64\n",
      "Chi-Square Data Duplicate Records: 184\n"
     ]
    }
   ],
   "source": [
    "# Data Cleaning for Chi-Square Test Dataset\n",
    "# Check for missing values\n",
    "print(\"Chi-Square Data Missing Values:\\n\", chi_square_data.isnull().sum())\n",
    "# Check for duplicates\n",
    "print(\"Chi-Square Data Duplicate Records:\", chi_square_data.duplicated().sum())"
   ]
  },
  {
   "cell_type": "code",
   "execution_count": 37,
   "id": "3789f647-2b2e-4d4c-94c3-6c4b0135e666",
   "metadata": {},
   "outputs": [
    {
     "name": "stdout",
     "output_type": "stream",
     "text": [
      "\n",
      "T-Test Data Missing Values:\n",
      " User_Type         0\n",
      "Login_Attempts    0\n",
      "dtype: int64\n",
      "T-Test Data Duplicate Records: 0\n"
     ]
    }
   ],
   "source": [
    "# Data Cleaning for T-Test Dataset\n",
    "# Check for missing values\n",
    "print(\"\\nT-Test Data Missing Values:\\n\", t_test_data.isnull().sum())\n",
    "# Check for duplicates\n",
    "print(\"T-Test Data Duplicate Records:\", t_test_data.duplicated().sum())"
   ]
  },
  {
   "cell_type": "code",
   "execution_count": 38,
   "id": "b22486ab-f5f0-4804-a818-18f6acdcf730",
   "metadata": {},
   "outputs": [],
   "source": [
    "# Handle missing values (if any) - here we simply drop them for demonstration\n",
    "chi_square_data.dropna(inplace=True)\n",
    "t_test_data.dropna(inplace=True)"
   ]
  },
  {
   "cell_type": "code",
   "execution_count": 39,
   "id": "885482f2-e006-453d-8c88-ffe3de706773",
   "metadata": {},
   "outputs": [],
   "source": [
    "# Handle duplicates\n",
    "chi_square_data.drop_duplicates(inplace=True)\n",
    "t_test_data.drop_duplicates(inplace=True)"
   ]
  },
  {
   "cell_type": "code",
   "execution_count": 40,
   "id": "20501831-1a0f-4ae8-b979-a51d53451af4",
   "metadata": {},
   "outputs": [
    {
     "name": "stdout",
     "output_type": "stream",
     "text": [
      "\n",
      "Chi-Square Data Types:\n",
      " Time_of_Day      object\n",
      "Incident_Type    object\n",
      "dtype: object\n",
      "\n",
      "T-Test Data Types:\n",
      " User_Type          object\n",
      "Login_Attempts    float64\n",
      "dtype: object\n"
     ]
    }
   ],
   "source": [
    "# Data Type Verification\n",
    "print(\"\\nChi-Square Data Types:\\n\", chi_square_data.dtypes)\n",
    "print(\"\\nT-Test Data Types:\\n\", t_test_data.dtypes)"
   ]
  },
  {
   "cell_type": "code",
   "execution_count": 41,
   "id": "dcb2d141-bdf9-4083-a081-dbd375fcb69e",
   "metadata": {},
   "outputs": [],
   "source": [
    "# Normalization for Login Attempts in T-Test Dataset\n",
    "scaler = StandardScaler()\n",
    "t_test_data['Normalized_Login_Attempts'] = scaler.fit_transform(t_test_data[['Login_Attempts']])"
   ]
  },
  {
   "cell_type": "code",
   "execution_count": 42,
   "id": "b3379084-52ad-496d-ac60-2f9f243eb8ab",
   "metadata": {},
   "outputs": [],
   "source": [
    "# Chi-Square Test: Association between Time of Day and Incident Type\n",
    "# Create a contingency table\n",
    "contingency_table = pd.crosstab(chi_square_data['Time_of_Day'], chi_square_data['Incident_Type'])"
   ]
  },
  {
   "cell_type": "code",
   "execution_count": 43,
   "id": "30bb8790-f48b-4e0f-8823-16297ab45f02",
   "metadata": {},
   "outputs": [],
   "source": [
    "# Perform Chi-Square test\n",
    "chi2, p_value, dof, expected = chi2_contingency(contingency_table)"
   ]
  },
  {
   "cell_type": "code",
   "execution_count": 44,
   "id": "13b6088f-a910-4235-9e58-81de737bd588",
   "metadata": {},
   "outputs": [
    {
     "name": "stdout",
     "output_type": "stream",
     "text": [
      "\n",
      "Chi-Square Test Results\n",
      "-----------------------\n",
      "Chi2 Statistic: 0.0\n",
      "P-value: 1.0\n",
      "Degrees of Freedom: 9\n",
      "Expected Frequencies Table:\n",
      "[[1. 1. 1. 1.]\n",
      " [1. 1. 1. 1.]\n",
      " [1. 1. 1. 1.]\n",
      " [1. 1. 1. 1.]]\n",
      "\n"
     ]
    }
   ],
   "source": [
    "# display Chi-Square test\n",
    "print(\"\\nChi-Square Test Results\")\n",
    "print(\"-----------------------\")\n",
    "print(f\"Chi2 Statistic: {chi2}\")\n",
    "print(f\"P-value: {p_value}\")\n",
    "print(f\"Degrees of Freedom: {dof}\")\n",
    "print(f\"Expected Frequencies Table:\\n{expected}\\n\")"
   ]
  },
  {
   "cell_type": "markdown",
   "id": "be8117d4-920b-4768-8e7c-0c3b09c2751a",
   "metadata": {},
   "source": [
    "1. Chi2 Statistic: 0.0\n",
    "A Chi2 statistic of 0.0 indicates that there is no difference between the observed and expected frequencies. In other words, the observed values exactly match the expected values for each category in the contingency table.\n",
    "\n",
    "2. P-value: 1.0\n",
    "A p-value of 1.0 suggests there is no statistical significance in the relationship between Time of Day and Incident Type. This is because a high p-value (especially 1.0) indicates that the observed data fits the null hypothesis perfectly, meaning we have no reason to believe there’s an association between these variables.\n",
    "In practice, this means we fail to reject the null hypothesis.\n",
    "\n",
    "3. Degrees of Freedom (DOF): 9\n",
    "The degrees of freedom in a Chi-Square test are calculated based on the number of categories in each variable. With four categories for both Time of Day and Incident Type, we get (4−1)×(4−1)=9. The DOF doesn’t indicate significance but helps calculate the Chi2 distribution.\n",
    "\n",
    "4. Expected Frequencies Table:\n",
    "The table shows the expected frequency of each combination of Time of Day and Incident Type if there were no association between them. All values are 1, meaning each combination was expected to occur exactly once.\n",
    "\n",
    "Summary Interpretation\n",
    "Since the p-value is 1.0 and the Chi2 statistic is 0, we can conclude that there is no association between the time of day and the type of cybersecurity incident. This suggests that incidents occur independently of the time of day, with no discernible pattern or preference for specific times.\n",
    "\n",
    "\"Null Hypothesis (H₀): There is no association between the time of day and the type of cybersecurity incident (i.e., they are independent).\""
   ]
  },
  {
   "cell_type": "code",
   "execution_count": 45,
   "id": "16083d4a-7da8-4050-b352-dc2f8600c84c",
   "metadata": {},
   "outputs": [],
   "source": [
    "# T-Test: Difference in Login Attempts between Regular and Malicious users\n",
    "# Split data based on User Type\n",
    "regular_login_attempts = t_test_data[t_test_data['User_Type'] == 'Regular']['Normalized_Login_Attempts']\n",
    "malicious_login_attempts = t_test_data[t_test_data['User_Type'] == 'Malicious']['Normalized_Login_Attempts']"
   ]
  },
  {
   "cell_type": "code",
   "execution_count": 46,
   "id": "14280fbb-c167-4f35-9b95-3ce0725e256a",
   "metadata": {},
   "outputs": [],
   "source": [
    "# Perform T-Test\n",
    "t_stat, p_val = ttest_ind(regular_login_attempts, malicious_login_attempts)"
   ]
  },
  {
   "cell_type": "code",
   "execution_count": 47,
   "id": "eb43053c-4241-4f76-91e6-e74aaa9ed6ef",
   "metadata": {},
   "outputs": [
    {
     "name": "stdout",
     "output_type": "stream",
     "text": [
      "T-Test Results\n",
      "--------------\n",
      "T-Statistic: -8.22397927565179\n",
      "P-value: 2.5690634182473794e-14\n"
     ]
    }
   ],
   "source": [
    "# display T-Test result\n",
    "print(\"T-Test Results\")\n",
    "print(\"--------------\")\n",
    "print(f\"T-Statistic: {t_stat}\")\n",
    "print(f\"P-value: {p_val}\")"
   ]
  },
  {
   "cell_type": "markdown",
   "id": "9a2166c5-e50c-44be-962b-d3ab0da87695",
   "metadata": {},
   "source": [
    "T-Statistic: -8.22\n",
    "A T-statistic of -8.22 indicates a substantial difference between the means of the two groups (i.e., Regular and Malicious users).\n",
    "The negative sign shows that the mean of the Regular users' login attempts is lower than that of Malicious users, which aligns with expectations in cybersecurity (malicious users might make more attempts).\n",
    "\n",
    "P-value: 2.57e-14\n",
    "A p-value of 2.57e-14 (or 0.0000000000000257) is exceedingly low and far below the typical significance threshold of 0.05.\n",
    "This means we can reject the null hypothesis with strong confidence, indicating a statistically significant difference in the average number of login attempts between the two groups.\n",
    "\n",
    "Summary Interpretation\n",
    "These results provide strong evidence that malicious users tend to have a different (and likely higher) number of login attempts compared to regular users. This distinction could be useful in identifying potentially malicious activity based on login behavior alone.\n",
    "\n",
    "\"Alternative Hypothesis (H₁): The mean number of login attempts for regular and malicious users is different.\""
   ]
  }
 ],
 "metadata": {
  "kernelspec": {
   "display_name": "Python 3 (ipykernel)",
   "language": "python",
   "name": "python3"
  },
  "language_info": {
   "codemirror_mode": {
    "name": "ipython",
    "version": 3
   },
   "file_extension": ".py",
   "mimetype": "text/x-python",
   "name": "python",
   "nbconvert_exporter": "python",
   "pygments_lexer": "ipython3",
   "version": "3.12.3"
  }
 },
 "nbformat": 4,
 "nbformat_minor": 5
}
